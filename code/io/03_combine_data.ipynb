{
 "cells": [
  {
   "cell_type": "code",
   "execution_count": 2,
   "metadata": {},
   "outputs": [],
   "source": [
    "import os\n",
    "import glob\n",
    "import matplotlib.pyplot as plt\n",
    "\n",
    "import pickle\n",
    "import pandas as pd"
   ]
  },
  {
   "cell_type": "markdown",
   "metadata": {},
   "source": [
    "# 01. Import pickle file with timeseries datasets"
   ]
  },
  {
   "cell_type": "code",
   "execution_count": 3,
   "metadata": {},
   "outputs": [],
   "source": [
    "pickle_file_path = \"../../data/ts_dict.pickle\"\n",
    "\n",
    "with open(pickle_file_path, 'rb') as file:\n",
    "    ts_dict = pickle.load(file)\n"
   ]
  },
  {
   "cell_type": "code",
   "execution_count": 4,
   "metadata": {},
   "outputs": [
    {
     "data": {
      "text/plain": [
       "dict_keys(['main', 'jb001_flow_data', 'jb001_water_level', 'jb002_flow_data', 'jb002_water_level', 'jb009_flow_data', 'jb009_level_data', 'snrfa_flow_data', 'snrfa_level_data'])"
      ]
     },
     "execution_count": 4,
     "metadata": {},
     "output_type": "execute_result"
    }
   ],
   "source": [
    "ts_dict.keys()"
   ]
  },
  {
   "cell_type": "code",
   "execution_count": 7,
   "metadata": {},
   "outputs": [],
   "source": [
    "for idx in ts_dict.keys():\n",
    "    if idx != \"main\":\n",
    "        ts_dict[idx][\"date\"] = pd.to_datetime(ts_dict[idx][\"date\"], format='%Y-%m-%d')\n",
    "        ts_dict[idx].set_index('date', inplace=True)"
   ]
  },
  {
   "cell_type": "markdown",
   "metadata": {},
   "source": [
    "# 02. Create a combined dataset"
   ]
  },
  {
   "cell_type": "code",
   "execution_count": 14,
   "metadata": {},
   "outputs": [],
   "source": [
    "df = pd.DataFrame()\n",
    "df[\"jb001_flow\"] = ts_dict[\"jb001_flow_data\"][\"flow(m3/s)\"]\n",
    "df[\"jb002_flow\"] = ts_dict[\"jb002_flow_data\"][\"flow(m3/s)\"]\n",
    "df[\"jb009_flow\"] = ts_dict[\"jb009_flow_data\"][\"flow(m3/s)\"]\n",
    "df[\"snfra_flow\"] = ts_dict[\"snrfa_flow_data\"][\"flow(m3/s)\"]\n",
    "df[\"jb001_level\"] = ts_dict[\"jb001_water_level\"][\"level(m)\"]\n",
    "df[\"jb002_level\"] = ts_dict[\"jb002_water_level\"][\"level(m)\"]\n",
    "df[\"jb009_level\"] = ts_dict[\"jb009_level_data\"][\"level(m)\"]\n",
    "df[\"snfra_level\"] = ts_dict[\"snrfa_level_data\"][\"level(m)\"]"
   ]
  },
  {
   "cell_type": "code",
   "execution_count": 15,
   "metadata": {},
   "outputs": [
    {
     "data": {
      "text/html": [
       "<div>\n",
       "<style scoped>\n",
       "    .dataframe tbody tr th:only-of-type {\n",
       "        vertical-align: middle;\n",
       "    }\n",
       "\n",
       "    .dataframe tbody tr th {\n",
       "        vertical-align: top;\n",
       "    }\n",
       "\n",
       "    .dataframe thead th {\n",
       "        text-align: right;\n",
       "    }\n",
       "</style>\n",
       "<table border=\"1\" class=\"dataframe\">\n",
       "  <thead>\n",
       "    <tr style=\"text-align: right;\">\n",
       "      <th></th>\n",
       "      <th>jb001_flow</th>\n",
       "      <th>jb002_flow</th>\n",
       "      <th>jb009_flow</th>\n",
       "      <th>snfra_flow</th>\n",
       "      <th>jb001_level</th>\n",
       "      <th>jb002_level</th>\n",
       "      <th>jb009_level</th>\n",
       "      <th>snfra_level</th>\n",
       "    </tr>\n",
       "    <tr>\n",
       "      <th>date</th>\n",
       "      <th></th>\n",
       "      <th></th>\n",
       "      <th></th>\n",
       "      <th></th>\n",
       "      <th></th>\n",
       "      <th></th>\n",
       "      <th></th>\n",
       "      <th></th>\n",
       "    </tr>\n",
       "  </thead>\n",
       "  <tbody>\n",
       "    <tr>\n",
       "      <th>2023-12-22</th>\n",
       "      <td>NaN</td>\n",
       "      <td>NaN</td>\n",
       "      <td>NaN</td>\n",
       "      <td>NaN</td>\n",
       "      <td>NaN</td>\n",
       "      <td>NaN</td>\n",
       "      <td>NaN</td>\n",
       "      <td>NaN</td>\n",
       "    </tr>\n",
       "    <tr>\n",
       "      <th>2023-12-21</th>\n",
       "      <td>NaN</td>\n",
       "      <td>NaN</td>\n",
       "      <td>156.681837</td>\n",
       "      <td>NaN</td>\n",
       "      <td>2.06</td>\n",
       "      <td>NaN</td>\n",
       "      <td>2.44</td>\n",
       "      <td>4.8</td>\n",
       "    </tr>\n",
       "    <tr>\n",
       "      <th>2023-12-20</th>\n",
       "      <td>NaN</td>\n",
       "      <td>NaN</td>\n",
       "      <td>163.684843</td>\n",
       "      <td>NaN</td>\n",
       "      <td>2.02</td>\n",
       "      <td>NaN</td>\n",
       "      <td>2.48</td>\n",
       "      <td>4.8</td>\n",
       "    </tr>\n",
       "    <tr>\n",
       "      <th>2023-12-19</th>\n",
       "      <td>NaN</td>\n",
       "      <td>NaN</td>\n",
       "      <td>167.239613</td>\n",
       "      <td>NaN</td>\n",
       "      <td>2.54</td>\n",
       "      <td>NaN</td>\n",
       "      <td>2.50</td>\n",
       "      <td>4.8</td>\n",
       "    </tr>\n",
       "    <tr>\n",
       "      <th>2023-12-18</th>\n",
       "      <td>NaN</td>\n",
       "      <td>NaN</td>\n",
       "      <td>163.684843</td>\n",
       "      <td>NaN</td>\n",
       "      <td>2.10</td>\n",
       "      <td>NaN</td>\n",
       "      <td>2.48</td>\n",
       "      <td>4.8</td>\n",
       "    </tr>\n",
       "    <tr>\n",
       "      <th>...</th>\n",
       "      <td>...</td>\n",
       "      <td>...</td>\n",
       "      <td>...</td>\n",
       "      <td>...</td>\n",
       "      <td>...</td>\n",
       "      <td>...</td>\n",
       "      <td>...</td>\n",
       "      <td>...</td>\n",
       "    </tr>\n",
       "    <tr>\n",
       "      <th>1951-01-05</th>\n",
       "      <td>NaN</td>\n",
       "      <td>NaN</td>\n",
       "      <td>NaN</td>\n",
       "      <td>NaN</td>\n",
       "      <td>NaN</td>\n",
       "      <td>NaN</td>\n",
       "      <td>NaN</td>\n",
       "      <td>NaN</td>\n",
       "    </tr>\n",
       "    <tr>\n",
       "      <th>1951-01-04</th>\n",
       "      <td>NaN</td>\n",
       "      <td>NaN</td>\n",
       "      <td>NaN</td>\n",
       "      <td>NaN</td>\n",
       "      <td>NaN</td>\n",
       "      <td>NaN</td>\n",
       "      <td>NaN</td>\n",
       "      <td>NaN</td>\n",
       "    </tr>\n",
       "    <tr>\n",
       "      <th>1951-01-03</th>\n",
       "      <td>NaN</td>\n",
       "      <td>NaN</td>\n",
       "      <td>NaN</td>\n",
       "      <td>NaN</td>\n",
       "      <td>NaN</td>\n",
       "      <td>NaN</td>\n",
       "      <td>NaN</td>\n",
       "      <td>NaN</td>\n",
       "    </tr>\n",
       "    <tr>\n",
       "      <th>1951-01-02</th>\n",
       "      <td>NaN</td>\n",
       "      <td>NaN</td>\n",
       "      <td>NaN</td>\n",
       "      <td>NaN</td>\n",
       "      <td>NaN</td>\n",
       "      <td>NaN</td>\n",
       "      <td>NaN</td>\n",
       "      <td>NaN</td>\n",
       "    </tr>\n",
       "    <tr>\n",
       "      <th>1951-01-01</th>\n",
       "      <td>NaN</td>\n",
       "      <td>NaN</td>\n",
       "      <td>NaN</td>\n",
       "      <td>NaN</td>\n",
       "      <td>NaN</td>\n",
       "      <td>NaN</td>\n",
       "      <td>NaN</td>\n",
       "      <td>NaN</td>\n",
       "    </tr>\n",
       "  </tbody>\n",
       "</table>\n",
       "<p>26566 rows × 8 columns</p>\n",
       "</div>"
      ],
      "text/plain": [
       "            jb001_flow  jb002_flow  jb009_flow  snfra_flow  jb001_level  \\\n",
       "date                                                                      \n",
       "2023-12-22         NaN         NaN         NaN         NaN          NaN   \n",
       "2023-12-21         NaN         NaN  156.681837         NaN         2.06   \n",
       "2023-12-20         NaN         NaN  163.684843         NaN         2.02   \n",
       "2023-12-19         NaN         NaN  167.239613         NaN         2.54   \n",
       "2023-12-18         NaN         NaN  163.684843         NaN         2.10   \n",
       "...                ...         ...         ...         ...          ...   \n",
       "1951-01-05         NaN         NaN         NaN         NaN          NaN   \n",
       "1951-01-04         NaN         NaN         NaN         NaN          NaN   \n",
       "1951-01-03         NaN         NaN         NaN         NaN          NaN   \n",
       "1951-01-02         NaN         NaN         NaN         NaN          NaN   \n",
       "1951-01-01         NaN         NaN         NaN         NaN          NaN   \n",
       "\n",
       "            jb002_level  jb009_level  snfra_level  \n",
       "date                                               \n",
       "2023-12-22          NaN          NaN          NaN  \n",
       "2023-12-21          NaN         2.44          4.8  \n",
       "2023-12-20          NaN         2.48          4.8  \n",
       "2023-12-19          NaN         2.50          4.8  \n",
       "2023-12-18          NaN         2.48          4.8  \n",
       "...                 ...          ...          ...  \n",
       "1951-01-05          NaN          NaN          NaN  \n",
       "1951-01-04          NaN          NaN          NaN  \n",
       "1951-01-03          NaN          NaN          NaN  \n",
       "1951-01-02          NaN          NaN          NaN  \n",
       "1951-01-01          NaN          NaN          NaN  \n",
       "\n",
       "[26566 rows x 8 columns]"
      ]
     },
     "execution_count": 15,
     "metadata": {},
     "output_type": "execute_result"
    }
   ],
   "source": [
    "df"
   ]
  },
  {
   "cell_type": "code",
   "execution_count": 16,
   "metadata": {},
   "outputs": [],
   "source": [
    "df.to_csv(\"../../data/somalia_combined_df.csv\")"
   ]
  }
 ],
 "metadata": {
  "kernelspec": {
   "display_name": "tensorflow",
   "language": "python",
   "name": "python3"
  },
  "language_info": {
   "codemirror_mode": {
    "name": "ipython",
    "version": 3
   },
   "file_extension": ".py",
   "mimetype": "text/x-python",
   "name": "python",
   "nbconvert_exporter": "python",
   "pygments_lexer": "ipython3",
   "version": "3.11.8"
  }
 },
 "nbformat": 4,
 "nbformat_minor": 2
}
