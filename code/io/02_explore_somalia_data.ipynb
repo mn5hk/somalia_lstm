import os
import glob
import matplotlib.pyplot as plt

import pickle
import pandas as pd

pickle_file_path = "../../data/ts_dict.pickle"

with open(pickle_file_path, 'rb') as file:
    ts_dict = pickle.load(file)

# Rest of your code...